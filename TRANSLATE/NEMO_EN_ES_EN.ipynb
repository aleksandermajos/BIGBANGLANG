{
 "cells": [
  {
   "cell_type": "code",
   "execution_count": 1,
   "id": "recovered-lease",
   "metadata": {},
   "outputs": [
    {
     "name": "stderr",
     "output_type": "stream",
     "text": [
      "[NeMo W 2021-06-11 09:58:14 optimizers:46] Apex was not found. Using the lamb optimizer will error out.\n",
      "[NeMo W 2021-06-11 09:58:20 nemo_logging:349] C:\\Users\\hapir\\anaconda3\\envs\\BIGAI\\lib\\site-packages\\torchaudio\\extension\\extension.py:13: UserWarning: torchaudio C++ extension is not available.\n",
      "      warnings.warn('torchaudio C++ extension is not available.')\n",
      "    \n",
      "################################################################################\n",
      "### WARNING, path does not exist: KALDI_ROOT=/mnt/matylda5/iveselyk/Tools/kaldi-trunk\n",
      "###          (please add 'export KALDI_ROOT=<your_path>' in your $HOME/.profile)\n",
      "###          (or run as: KALDI_ROOT=<your_path> python <your_script>.py)\n",
      "################################################################################\n",
      "\n",
      "[NeMo W 2021-06-11 09:58:21 experimental:27] Module <class 'nemo.collections.asr.data.audio_to_text_dali.AudioToCharDALIDataset'> is experimental, not ready for production and is not fully supported. Use at your own risk.\n"
     ]
    }
   ],
   "source": [
    "# Import NeMo and it's ASR, NLP and TTS collections\n",
    "import nemo\n",
    "# Import Speech Recognition collection\n",
    "import nemo.collections.asr as nemo_asr\n",
    "# Import Natural Language Processing colleciton\n",
    "import nemo.collections.nlp as nemo_nlp\n",
    "# Import Speech Synthesis collection\n",
    "import nemo.collections.tts as nemo_tts\n",
    "# We'll use this to listen to audio\n",
    "import IPython"
   ]
  },
  {
   "cell_type": "code",
   "execution_count": 2,
   "id": "another-alfred",
   "metadata": {},
   "outputs": [
    {
     "name": "stdout",
     "output_type": "stream",
     "text": [
      "[NeMo I 2021-06-11 09:58:24 cloud:56] Found existing object C:\\Users\\hapir\\.cache\\torch\\NeMo\\NeMo_1.0.0\\nmt_es_en_transformer12x2\\42fbff52240a2c8cb1127d2a97201f6d\\nmt_es_en_transformer12x2.nemo.\n",
      "[NeMo I 2021-06-11 09:58:24 cloud:62] Re-using file from: C:\\Users\\hapir\\.cache\\torch\\NeMo\\NeMo_1.0.0\\nmt_es_en_transformer12x2\\42fbff52240a2c8cb1127d2a97201f6d\\nmt_es_en_transformer12x2.nemo\n",
      "[NeMo I 2021-06-11 09:58:24 common:675] Instantiating model from pre-trained checkpoint\n",
      "[NeMo I 2021-06-11 09:58:38 tokenizer_utils:129] Getting YouTokenToMeTokenizer with model: C:\\Users\\hapir\\AppData\\Local\\Temp\\tmpo7ekvr_l\\tokenizer.32000.BPE.model.\n",
      "[NeMo I 2021-06-11 09:58:39 tokenizer_utils:129] Getting YouTokenToMeTokenizer with model: C:\\Users\\hapir\\AppData\\Local\\Temp\\tmpo7ekvr_l\\tokenizer.32000.BPE.model.\n"
     ]
    },
    {
     "name": "stderr",
     "output_type": "stream",
     "text": [
      "[NeMo W 2021-06-11 09:58:39 modelPT:137] If you intend to do training or fine-tuning, please call the ModelPT.setup_training_data() method and provide a valid configuration file to setup the train data loader.\n",
      "    Train config : \n",
      "    src_file_name: /raid/sharded_tarfiles_60_even/batches.tokens.16000._OP_1..302_CL_.tar\n",
      "    tgt_file_name: /raid/sharded_tarfiles_60_even/batches.tokens.16000._OP_1..302_CL_.tar\n",
      "    tokens_in_batch: 16000\n",
      "    clean: true\n",
      "    max_seq_length: 512\n",
      "    cache_ids: false\n",
      "    cache_data_per_node: false\n",
      "    use_cache: false\n",
      "    shuffle: true\n",
      "    num_samples: -1\n",
      "    drop_last: false\n",
      "    pin_memory: false\n",
      "    num_workers: 8\n",
      "    load_from_cached_dataset: false\n",
      "    reverse_lang_direction: true\n",
      "    load_from_tarred_dataset: true\n",
      "    metadata_path: /raid/sharded_tarfiles_60_even/metadata.json\n",
      "    tar_shuffle_n: 100\n",
      "    \n",
      "[NeMo W 2021-06-11 09:58:39 modelPT:144] If you intend to do validation, please call the ModelPT.setup_validation_data() or ModelPT.setup_multiple_validation_data() method and provide a valid configuration file to setup the validation data loader(s). \n",
      "    Validation config : \n",
      "    src_file_name: /raid/newstest2012-es-en.clean.tok.src\n",
      "    tgt_file_name: /raid/newstest2012-es-en.clean.tok.ref\n",
      "    tokens_in_batch: 512\n",
      "    clean: false\n",
      "    max_seq_length: 512\n",
      "    cache_ids: false\n",
      "    cache_data_per_node: false\n",
      "    use_cache: false\n",
      "    shuffle: false\n",
      "    num_samples: -1\n",
      "    drop_last: false\n",
      "    pin_memory: false\n",
      "    num_workers: 8\n",
      "    load_from_cached_dataset: false\n",
      "    reverse_lang_direction: false\n",
      "    load_from_tarred_dataset: false\n",
      "    metadata_path: null\n",
      "    tar_shuffle_n: 100\n",
      "    \n",
      "[NeMo W 2021-06-11 09:58:39 modelPT:151] Please call the ModelPT.setup_test_data() or ModelPT.setup_multiple_test_data() method and provide a valid configuration file to setup the test data loader(s).\n",
      "    Test config : \n",
      "    src_file_name: /raid/newstest2013-es-en.clean.tok.src\n",
      "    tgt_file_name: /raid/newstest2013-es-en.clean.tok.ref\n",
      "    tokens_in_batch: 512\n",
      "    clean: false\n",
      "    max_seq_length: 512\n",
      "    cache_ids: false\n",
      "    cache_data_per_node: false\n",
      "    use_cache: false\n",
      "    shuffle: false\n",
      "    num_samples: -1\n",
      "    drop_last: false\n",
      "    pin_memory: false\n",
      "    num_workers: 8\n",
      "    load_from_cached_dataset: false\n",
      "    reverse_lang_direction: false\n",
      "    load_from_tarred_dataset: false\n",
      "    metadata_path: null\n",
      "    tar_shuffle_n: 100\n",
      "    \n",
      "[NeMo W 2021-06-11 09:58:39 modelPT:1198] World size can only be set by PyTorch Lightning Trainer.\n"
     ]
    },
    {
     "name": "stdout",
     "output_type": "stream",
     "text": [
      "[NeMo I 2021-06-11 09:58:45 modelPT:434] Model MTEncDecModel was successfully restored from C:\\Users\\hapir\\.cache\\torch\\NeMo\\NeMo_1.0.0\\nmt_es_en_transformer12x2\\42fbff52240a2c8cb1127d2a97201f6d\\nmt_es_en_transformer12x2.nemo.\n"
     ]
    }
   ],
   "source": [
    "# Neural Machine Translation model\n",
    "#nmt_model = nemo_nlp.models.machine_translation.MTEncDecModel.from_pretrained(model_name=\"nmt_en_es_transformer12x2\").cuda()\n",
    "nmt_model2 = nemo_nlp.models.machine_translation.MTEncDecModel.from_pretrained(model_name=\"nmt_es_en_transformer12x2\").cuda()"
   ]
  },
  {
   "cell_type": "code",
   "execution_count": 13,
   "id": "encouraging-homework",
   "metadata": {},
   "outputs": [
    {
     "name": "stdout",
     "output_type": "stream",
     "text": [
      "['Information can be thought of as the resolution of uncertainty']\n"
     ]
    }
   ],
   "source": [
    "english_text = ['Information can be thought of as the resolution of uncertainty']\n",
    "print(english_text)"
   ]
  },
  {
   "cell_type": "code",
   "execution_count": 14,
   "id": "satisfactory-acceptance",
   "metadata": {},
   "outputs": [
    {
     "name": "stdout",
     "output_type": "stream",
     "text": [
      "['La información puede ser pensada como la resolución de la incertidumbre']\n"
     ]
    }
   ],
   "source": [
    "spanish_text = nmt_model.translate(english_text)\n",
    "print(spanish_text)"
   ]
  },
  {
   "cell_type": "code",
   "execution_count": 3,
   "id": "normal-overview",
   "metadata": {},
   "outputs": [],
   "source": [
    "spanish_text = ['mil ciento veintiséis noticias en españolevenido a laovodst para aprender español cada día dialosaves publicamos nuestro podcas de lunes a viernes si quies ver la transqición completa y un hoja trabajo con ejercicios y con explicaciones misitanosta web hoyblamos com azte suscritor premio para acceder a todo ese contenido hola oiente como stas ya estamos a diez de junio y el verano está muy cerca sabers un secreto de junio que los primeros días de junio son los mejores pareda playa tranquilo antes de que los niños extende vacaciones es el momento de disfrutar de la tranquilidad de la playa porque a partir de finales de junio todo empieza a llenarse de gente pero mientras no vasa la playa y con mos jueves vamos a ver las noticias de hoy empezaremos hablando de un hombre que ha desarrollado una habilidad muy especial siguremos con la historia de un perro que tiene un trabajo muy interesante y terminaremos com una mujer que decidió pasar a la acción para conseguir seguidores en redes sociales hoy hablamos de noticias en española na expresión que dice que cada vida es un mundo y no puedo estar más de acuerdo porque aunque parezca una ovidad todo si cada uno de nosotros tenemos nuestros problemas nuestras historias nuestros triunfos nuestras derrotas nuestros momentos de felicidad y nuestras penas todos no hay nadie que se escape de eso pero tamienes cierto que teniendo muy en cuenta lo que acabó decir y sin despreciar los problemas de nadie algunas personas tienen una vida más difícil que otras personas eso es así y amí siempre me a parecido que tienen un gran mélito todas aquellas personas que luchan contra trastornos de aprendizaje comopudeser la dislecia o contratrastornos']"
   ]
  },
  {
   "cell_type": "code",
   "execution_count": 4,
   "id": "finite-twelve",
   "metadata": {},
   "outputs": [
    {
     "name": "stdout",
     "output_type": "stream",
     "text": [
      "['thousand and twenty-six news in Spanishwelcomed to laovodst to learn Spanish every day dialosaves we publish our podcas from Monday to Friday if you want to see the complete transqition and a sheet work with exercises and with explanations Misitanosta web hoyblamos with azte subscriber prize to access all that content or hear like these we are already at ten of June and the summer is very close to know a secret of June that the first days of June are the best parade quiet beach before the children extend vacations is the time to enjoy the tranquility of the beach because from the end of June everything begins to fill up with people but as long as it does not go to the beach and with Thursday we will see the news of today we will start talking about a man who has developed a very special skill we continue with the story of a dog who has a very interesting job and we will end up eating a woman who decided to go to action to get followers in social networks today we talk about news in Spanish expression that says that every life is a world and I can not be more agree with one of ours because we have all our people who have a lot of happiness but have no other people who have a lot of life and who always have a great experience of our problems that we are not to say that everyone else who has a lot of life.']\n"
     ]
    }
   ],
   "source": [
    "english_text = nmt_model2.translate(spanish_text)\n",
    "print(english_text)"
   ]
  },
  {
   "cell_type": "code",
   "execution_count": null,
   "id": "comfortable-delivery",
   "metadata": {},
   "outputs": [],
   "source": []
  }
 ],
 "metadata": {
  "kernelspec": {
   "display_name": "Python 3",
   "language": "python",
   "name": "python3"
  },
  "language_info": {
   "codemirror_mode": {
    "name": "ipython",
    "version": 3
   },
   "file_extension": ".py",
   "mimetype": "text/x-python",
   "name": "python",
   "nbconvert_exporter": "python",
   "pygments_lexer": "ipython3",
   "version": "3.8.8"
  }
 },
 "nbformat": 4,
 "nbformat_minor": 5
}
