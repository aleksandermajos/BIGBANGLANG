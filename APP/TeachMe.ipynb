{
 "cells": [
  {
   "cell_type": "code",
   "execution_count": 1,
   "metadata": {},
   "outputs": [],
   "source": [
    "import os\n",
    "import re\n",
    "import random\n",
    "import requests\n",
    "from bs4 import BeautifulSoup\n",
    "from pathlib import Path\n",
    "from os import fspath\n",
    "import pandas as pd\n",
    "import requests\n",
    "from bs4 import BeautifulSoup"
   ]
  },
  {
   "cell_type": "code",
   "execution_count": 2,
   "metadata": {},
   "outputs": [],
   "source": [
    "dirty_words = pd.read_excel('5000WORDS SPANISH.xlsx')  "
   ]
  },
  {
   "cell_type": "code",
   "execution_count": 3,
   "metadata": {},
   "outputs": [
    {
     "data": {
      "text/plain": [
       "Index(['     Orden      Frec.absoluta    Frec.normalizada '], dtype='object')"
      ]
     },
     "execution_count": 3,
     "metadata": {},
     "output_type": "execute_result"
    }
   ],
   "source": [
    "dirty_words.columns"
   ]
  },
  {
   "cell_type": "code",
   "execution_count": 4,
   "metadata": {},
   "outputs": [],
   "source": [
    "dirty_words = dirty_words.rename(columns={'     Orden      Frec.absoluta    Frec.normalizada ': 'Col_1'})"
   ]
  },
  {
   "cell_type": "code",
   "execution_count": 5,
   "metadata": {},
   "outputs": [
    {
     "name": "stderr",
     "output_type": "stream",
     "text": [
      "<ipython-input-5-cc73f9a1dcab>:1: FutureWarning: The default value of regex will change from True to False in a future version.\n",
      "  dirty_words['Col_1'] = dirty_words['Col_1'].str.replace('[0-9]+', '')\n"
     ]
    }
   ],
   "source": [
    "dirty_words['Col_1'] = dirty_words['Col_1'].str.replace('[0-9]+', '')"
   ]
  },
  {
   "cell_type": "code",
   "execution_count": 6,
   "metadata": {},
   "outputs": [
    {
     "name": "stderr",
     "output_type": "stream",
     "text": [
      "<ipython-input-6-78c344137e0d>:1: FutureWarning: The default value of regex will change from True to False in a future version.\n",
      "  dirty_words['Col_1'] = dirty_words['Col_1'].str.replace('[\\W+\\.~]', '')\n"
     ]
    }
   ],
   "source": [
    "dirty_words['Col_1'] = dirty_words['Col_1'].str.replace('[\\W+\\.~]', '')"
   ]
  },
  {
   "cell_type": "code",
   "execution_count": 7,
   "metadata": {},
   "outputs": [
    {
     "data": {
      "text/html": [
       "<div>\n",
       "<style scoped>\n",
       "    .dataframe tbody tr th:only-of-type {\n",
       "        vertical-align: middle;\n",
       "    }\n",
       "\n",
       "    .dataframe tbody tr th {\n",
       "        vertical-align: top;\n",
       "    }\n",
       "\n",
       "    .dataframe thead th {\n",
       "        text-align: right;\n",
       "    }\n",
       "</style>\n",
       "<table border=\"1\" class=\"dataframe\">\n",
       "  <thead>\n",
       "    <tr style=\"text-align: right;\">\n",
       "      <th></th>\n",
       "      <th>Col_1</th>\n",
       "    </tr>\n",
       "  </thead>\n",
       "  <tbody>\n",
       "    <tr>\n",
       "      <th>0</th>\n",
       "      <td>de</td>\n",
       "    </tr>\n",
       "    <tr>\n",
       "      <th>1</th>\n",
       "      <td>la</td>\n",
       "    </tr>\n",
       "    <tr>\n",
       "      <th>2</th>\n",
       "      <td>que</td>\n",
       "    </tr>\n",
       "    <tr>\n",
       "      <th>3</th>\n",
       "      <td>el</td>\n",
       "    </tr>\n",
       "    <tr>\n",
       "      <th>4</th>\n",
       "      <td>en</td>\n",
       "    </tr>\n",
       "    <tr>\n",
       "      <th>...</th>\n",
       "      <td>...</td>\n",
       "    </tr>\n",
       "    <tr>\n",
       "      <th>4995</th>\n",
       "      <td>arreglo</td>\n",
       "    </tr>\n",
       "    <tr>\n",
       "      <th>4996</th>\n",
       "      <td>magistrado</td>\n",
       "    </tr>\n",
       "    <tr>\n",
       "      <th>4997</th>\n",
       "      <td>notables</td>\n",
       "    </tr>\n",
       "    <tr>\n",
       "      <th>4998</th>\n",
       "      <td>registros</td>\n",
       "    </tr>\n",
       "    <tr>\n",
       "      <th>4999</th>\n",
       "      <td>jugó</td>\n",
       "    </tr>\n",
       "  </tbody>\n",
       "</table>\n",
       "<p>5000 rows × 1 columns</p>\n",
       "</div>"
      ],
      "text/plain": [
       "           Col_1\n",
       "0             de\n",
       "1             la\n",
       "2            que\n",
       "3             el\n",
       "4             en\n",
       "...          ...\n",
       "4995     arreglo\n",
       "4996  magistrado\n",
       "4997    notables\n",
       "4998   registros\n",
       "4999        jugó\n",
       "\n",
       "[5000 rows x 1 columns]"
      ]
     },
     "execution_count": 7,
     "metadata": {},
     "output_type": "execute_result"
    }
   ],
   "source": [
    "dirty_words"
   ]
  },
  {
   "cell_type": "code",
   "execution_count": 8,
   "metadata": {},
   "outputs": [],
   "source": [
    "words_list = dirty_words.values.tolist()"
   ]
  },
  {
   "cell_type": "code",
   "execution_count": 9,
   "metadata": {},
   "outputs": [],
   "source": [
    "word = words_list[144][0]"
   ]
  },
  {
   "cell_type": "code",
   "execution_count": 10,
   "metadata": {},
   "outputs": [
    {
     "data": {
      "text/plain": [
       "'nuevo'"
      ]
     },
     "execution_count": 10,
     "metadata": {},
     "output_type": "execute_result"
    }
   ],
   "source": [
    "word"
   ]
  },
  {
   "cell_type": "code",
   "execution_count": 11,
   "metadata": {},
   "outputs": [],
   "source": [
    "request = \"https://context.reverso.net/translation/spanish-english/\"+word"
   ]
  },
  {
   "cell_type": "code",
   "execution_count": 12,
   "metadata": {},
   "outputs": [
    {
     "data": {
      "text/plain": [
       "'https://context.reverso.net/translation/spanish-english/nuevo'"
      ]
     },
     "execution_count": 12,
     "metadata": {},
     "output_type": "execute_result"
    }
   ],
   "source": [
    "request"
   ]
  },
  {
   "cell_type": "code",
   "execution_count": 13,
   "metadata": {},
   "outputs": [],
   "source": [
    "req = requests.get(request, headers={'User-Agent': 'Mozilla/5.0'})"
   ]
  },
  {
   "cell_type": "code",
   "execution_count": 14,
   "metadata": {},
   "outputs": [],
   "source": [
    "soup = BeautifulSoup(req.text, 'html.parser')"
   ]
  },
  {
   "cell_type": "code",
   "execution_count": 15,
   "metadata": {},
   "outputs": [],
   "source": [
    "sentences = [x.text.strip() for x in soup.find_all('span', {'class':'text'}) if '\\n' in x.text]"
   ]
  },
  {
   "cell_type": "code",
   "execution_count": 16,
   "metadata": {},
   "outputs": [
    {
     "data": {
      "text/plain": [
       "['Un nuevo Lucas, nuevo Pedro, un nuevo Bartolomé.',\n",
       " 'A new Luke, a new Peter, a new Bartholomew.',\n",
       " 'Cada nuevo asentamiento significa un nuevo problema para la paz.',\n",
       " 'Each new settlement means a new problem for peace.',\n",
       " 'Asimismo, se estableció un nuevo procedimiento de examen adicional para garantizar el cumplimiento del nuevo sistema de concesión positiva.',\n",
       " 'Furthermore, it introduced a new supplementary examination process to ensure compliance with the new positive grant.',\n",
       " 'El firmware nuevo también admite un nuevo modelo de UPS.',\n",
       " 'The new firmware also supports a new UPS model.',\n",
       " 'Debemos esforzarnos por ser científicos descubriendo un nuevo mundo y un nuevo lenguaje.',\n",
       " 'We must strive to be scientists by discovering a new world and a new language.',\n",
       " 'Poco después de inaugurar la construcción del nuevo templo salomónico, Herodes designó a un nuevo Sumo Sacerdote.',\n",
       " 'Shortly after inaugurating construction of the new Solomonic temple Herod appointed a new High Priest.',\n",
       " 'Su nuevo embajador Novak Djokovic es el nuevo cocodrilo.',\n",
       " \"Lacoste's new ambassador, Novak Djokovic, is the New Crocodile.\",\n",
       " 'El nuevo modelo operativo garantiza una mayor coordinación interna y un nuevo proceso de consulta a los clientes.',\n",
       " 'The new operating model ensured greater internal coordination and a new client consultation process.',\n",
       " 'Con el nuevo Lisa, la trazabilidad adquiere un sentido completamente nuevo.',\n",
       " 'With the new Lisa, traceability defines a completely new meaning.',\n",
       " 'Más allá de su goosenecks totalmente ajustable se encuentra un nuevo nivel de flexibilidad el nuevo Microflex intercambiables condensador micrófono cartucho.',\n",
       " 'Beyond their fully adjustable goosenecks lies a new level of flexibility the new Microflex interchangeable condenser microphone cartridge.',\n",
       " 'Apartamento nuevo a estrenar con mobiliario nuevo y muy amplio.',\n",
       " 'Quiet area and easy parking. New apartment, first rent with new furniture.',\n",
       " 'Que buscabas un nuevo propósito un nuevo sentido.',\n",
       " 'That you were looking for a new purpose, a new meaning.',\n",
       " 'Asado nuevo para un matrimonio nuevo.',\n",
       " 'Brand new roast for a brand new marriage.',\n",
       " 'El nuevo sistema de reconocimiento tiene un nuevo algoritmo de puntos.',\n",
       " 'The new recognition system has a new points algorithm.',\n",
       " 'Además está ya disponible el nuevo trailer para este nuevo contenido.',\n",
       " 'Besides a new trailer about this new content is available.',\n",
       " 'Nuestro nuevo entrenador quiere un nuevo corredor.',\n",
       " 'Our shiny new head coach wants a shiny new running back.',\n",
       " 'Fueron colonizadores intentando construir un nuevo mundo en un planeta nuevo.',\n",
       " 'They were settlers trying to build a new world on a new planet.',\n",
       " 'Holmes mira hacia un nuevo caso y nuevo adversario.',\n",
       " 'Holmes looks forward to the new case and new adversary.',\n",
       " 'Para transformar cualquier producto nuevo en un nuevo mercado.',\n",
       " \"It's to replace competition by's to transform any new product into a new market.\",\n",
       " 'El nuevo modelo tiene un nuevo interior con plásticos de mayor calidad y asientos más cómodos.',\n",
       " 'The new model featured a new interior with higher quality plastics and more comfortable seats.']"
      ]
     },
     "execution_count": 16,
     "metadata": {},
     "output_type": "execute_result"
    }
   ],
   "source": [
    "sentences"
   ]
  },
  {
   "cell_type": "code",
   "execution_count": null,
   "metadata": {},
   "outputs": [],
   "source": []
  }
 ],
 "metadata": {
  "kernelspec": {
   "display_name": "Python 3",
   "language": "python",
   "name": "python3"
  },
  "language_info": {
   "codemirror_mode": {
    "name": "ipython",
    "version": 3
   },
   "file_extension": ".py",
   "mimetype": "text/x-python",
   "name": "python",
   "nbconvert_exporter": "python",
   "pygments_lexer": "ipython3",
   "version": "3.8.8"
  }
 },
 "nbformat": 4,
 "nbformat_minor": 2
}
