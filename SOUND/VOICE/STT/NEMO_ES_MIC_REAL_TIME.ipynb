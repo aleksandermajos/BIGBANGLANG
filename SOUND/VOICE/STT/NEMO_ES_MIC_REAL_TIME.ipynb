{
 "cells": [
  {
   "cell_type": "code",
   "execution_count": 1,
   "metadata": {},
   "outputs": [
    {
     "name": "stdout",
     "output_type": "stream",
     "text": [
      "Requirement already satisfied: wget in c:\\users\\hapir\\anaconda3\\envs\\bigai\\lib\\site-packages (3.2)\n"
     ]
    },
    {
     "name": "stderr",
     "output_type": "stream",
     "text": [
      "WARNING: Ignoring invalid distribution -illow (c:\\users\\hapir\\anaconda3\\envs\\bigai\\lib\\site-packages)\n",
      "WARNING: Ignoring invalid distribution -illow (c:\\users\\hapir\\anaconda3\\envs\\bigai\\lib\\site-packages)\n",
      "WARNING: Ignoring invalid distribution -illow (c:\\users\\hapir\\anaconda3\\envs\\bigai\\lib\\site-packages)\n",
      "WARNING: Ignoring invalid distribution -illow (c:\\users\\hapir\\anaconda3\\envs\\bigai\\lib\\site-packages)\n",
      "WARNING: Ignoring invalid distribution -illow (c:\\users\\hapir\\anaconda3\\envs\\bigai\\lib\\site-packages)\n",
      "'apt-get' is not recognized as an internal or external command,\n",
      "operable program or batch file.\n"
     ]
    },
    {
     "name": "stdout",
     "output_type": "stream",
     "text": [
      "Requirement already satisfied: unidecode in c:\\users\\hapir\\anaconda3\\envs\\bigai\\lib\\site-packages (1.1.2)\n"
     ]
    },
    {
     "name": "stderr",
     "output_type": "stream",
     "text": [
      "WARNING: Ignoring invalid distribution -illow (c:\\users\\hapir\\anaconda3\\envs\\bigai\\lib\\site-packages)\n",
      "WARNING: Ignoring invalid distribution -illow (c:\\users\\hapir\\anaconda3\\envs\\bigai\\lib\\site-packages)\n",
      "WARNING: Ignoring invalid distribution -illow (c:\\users\\hapir\\anaconda3\\envs\\bigai\\lib\\site-packages)\n",
      "WARNING: Ignoring invalid distribution -illow (c:\\users\\hapir\\anaconda3\\envs\\bigai\\lib\\site-packages)\n",
      "WARNING: Ignoring invalid distribution -illow (c:\\users\\hapir\\anaconda3\\envs\\bigai\\lib\\site-packages)\n"
     ]
    },
    {
     "name": "stdout",
     "output_type": "stream",
     "text": [
      "Requirement already satisfied: pyaudio in c:\\users\\hapir\\anaconda3\\envs\\bigai\\lib\\site-packages (0.2.11)\n"
     ]
    },
    {
     "name": "stderr",
     "output_type": "stream",
     "text": [
      "WARNING: Ignoring invalid distribution -illow (c:\\users\\hapir\\anaconda3\\envs\\bigai\\lib\\site-packages)\n",
      "WARNING: Ignoring invalid distribution -illow (c:\\users\\hapir\\anaconda3\\envs\\bigai\\lib\\site-packages)\n",
      "WARNING: Ignoring invalid distribution -illow (c:\\users\\hapir\\anaconda3\\envs\\bigai\\lib\\site-packages)\n",
      "WARNING: Ignoring invalid distribution -illow (c:\\users\\hapir\\anaconda3\\envs\\bigai\\lib\\site-packages)\n",
      "WARNING: Ignoring invalid distribution -illow (c:\\users\\hapir\\anaconda3\\envs\\bigai\\lib\\site-packages)\n"
     ]
    },
    {
     "name": "stdout",
     "output_type": "stream",
     "text": [
      "Collecting nemo_toolkit[asr]\n",
      "  Cloning https://github.com/NVIDIA/NeMo.git (to revision v1.0.0) to c:\\users\\hapir\\appdata\\local\\temp\\pip-install-rb73re8l\\nemo-toolkit_549b216e1bf3428384155b068291ffdb\n",
      "Requirement already satisfied: numpy>=1.18.2 in c:\\users\\hapir\\anaconda3\\envs\\bigai\\lib\\site-packages (from nemo_toolkit[asr]) (1.19.2)\n",
      "Requirement already satisfied: onnx>=1.7.0 in c:\\users\\hapir\\anaconda3\\envs\\bigai\\lib\\site-packages (from nemo_toolkit[asr]) (1.8.1)\n",
      "Requirement already satisfied: pytorch-lightning<=1.2.10,>=1.2.8 in c:\\users\\hapir\\anaconda3\\envs\\bigai\\lib\\site-packages (from nemo_toolkit[asr]) (1.2.10)\n",
      "Requirement already satisfied: python-dateutil in c:\\users\\hapir\\anaconda3\\envs\\bigai\\lib\\site-packages (from nemo_toolkit[asr]) (2.8.1)\n",
      "Requirement already satisfied: torch in c:\\users\\hapir\\anaconda3\\envs\\bigai\\lib\\site-packages (from nemo_toolkit[asr]) (1.8.1)\n",
      "Requirement already satisfied: wget in c:\\users\\hapir\\anaconda3\\envs\\bigai\\lib\\site-packages (from nemo_toolkit[asr]) (3.2)\n",
      "Requirement already satisfied: wrapt in c:\\users\\hapir\\anaconda3\\envs\\bigai\\lib\\site-packages (from nemo_toolkit[asr]) (1.12.1)\n",
      "Requirement already satisfied: ruamel.yaml in c:\\users\\hapir\\anaconda3\\envs\\bigai\\lib\\site-packages (from nemo_toolkit[asr]) (0.16.12)\n",
      "Requirement already satisfied: scikit-learn in c:\\users\\hapir\\anaconda3\\envs\\bigai\\lib\\site-packages (from nemo_toolkit[asr]) (0.24.1)\n",
      "Requirement already satisfied: omegaconf<2.1.0,>=2.0.5 in c:\\users\\hapir\\anaconda3\\envs\\bigai\\lib\\site-packages (from nemo_toolkit[asr]) (2.0.6)\n",
      "Requirement already satisfied: hydra-core>=1.0.4 in c:\\users\\hapir\\anaconda3\\envs\\bigai\\lib\\site-packages (from nemo_toolkit[asr]) (1.0.6)\n",
      "Requirement already satisfied: transformers>=4.0.1 in c:\\users\\hapir\\anaconda3\\envs\\bigai\\lib\\site-packages (from nemo_toolkit[asr]) (4.1.1)\n"
     ]
    },
    {
     "name": "stderr",
     "output_type": "stream",
     "text": [
      "WARNING: Ignoring invalid distribution -illow (c:\\users\\hapir\\anaconda3\\envs\\bigai\\lib\\site-packages)\n",
      "WARNING: Ignoring invalid distribution -illow (c:\\users\\hapir\\anaconda3\\envs\\bigai\\lib\\site-packages)\n",
      "  Running command git clone -q https://github.com/NVIDIA/NeMo.git 'C:\\Users\\hapir\\AppData\\Local\\Temp\\pip-install-rb73re8l\\nemo-toolkit_549b216e1bf3428384155b068291ffdb'\n",
      "  Running command git checkout -b v1.0.0 --track origin/v1.0.0\n",
      "  Branch 'v1.0.0' set up to track remote branch 'v1.0.0' from 'origin'.\n",
      "  Switched to a new branch 'v1.0.0'\n",
      "WARNING: Ignoring invalid distribution -illow (c:\\users\\hapir\\anaconda3\\envs\\bigai\\lib\\site-packages)\n",
      "WARNING: Ignoring invalid distribution -illow (c:\\users\\hapir\\anaconda3\\envs\\bigai\\lib\\site-packages)\n",
      "WARNING: Ignoring invalid distribution -illow (c:\\users\\hapir\\anaconda3\\envs\\bigai\\lib\\site-packages)\n"
     ]
    },
    {
     "name": "stdout",
     "output_type": "stream",
     "text": [
      "Requirement already satisfied: sentencepiece<1.0.0 in c:\\users\\hapir\\anaconda3\\envs\\bigai\\lib\\site-packages (from nemo_toolkit[asr]) (0.1.95)\n",
      "Requirement already satisfied: webdataset>=0.1.48 in c:\\users\\hapir\\anaconda3\\envs\\bigai\\lib\\site-packages (from nemo_toolkit[asr]) (0.1.62)\n",
      "Requirement already satisfied: tqdm>=4.41.0 in c:\\users\\hapir\\anaconda3\\envs\\bigai\\lib\\site-packages (from nemo_toolkit[asr]) (4.51.0)\n",
      "Requirement already satisfied: opencc in c:\\users\\hapir\\anaconda3\\envs\\bigai\\lib\\site-packages (from nemo_toolkit[asr]) (1.1.1)\n",
      "Requirement already satisfied: pangu in c:\\users\\hapir\\anaconda3\\envs\\bigai\\lib\\site-packages (from nemo_toolkit[asr]) (4.0.6.1)\n",
      "Requirement already satisfied: jieba in c:\\users\\hapir\\anaconda3\\envs\\bigai\\lib\\site-packages (from nemo_toolkit[asr]) (0.42.1)\n",
      "Requirement already satisfied: numba in c:\\users\\hapir\\anaconda3\\envs\\bigai\\lib\\site-packages (from nemo_toolkit[asr]) (0.52.0)\n",
      "Requirement already satisfied: braceexpand in c:\\users\\hapir\\anaconda3\\envs\\bigai\\lib\\site-packages (from nemo_toolkit[asr]) (0.1.7)\n",
      "Requirement already satisfied: editdistance in c:\\users\\hapir\\anaconda3\\envs\\bigai\\lib\\site-packages (from nemo_toolkit[asr]) (0.5.3)\n",
      "Requirement already satisfied: frozendict in c:\\users\\hapir\\anaconda3\\envs\\bigai\\lib\\site-packages (from nemo_toolkit[asr]) (2.0.2)\n",
      "Requirement already satisfied: inflect in c:\\users\\hapir\\anaconda3\\envs\\bigai\\lib\\site-packages (from nemo_toolkit[asr]) (5.0.2)\n",
      "Requirement already satisfied: kaldi-io in c:\\users\\hapir\\anaconda3\\envs\\bigai\\lib\\site-packages (from nemo_toolkit[asr]) (0.9.4)\n",
      "Requirement already satisfied: librosa in c:\\users\\hapir\\anaconda3\\envs\\bigai\\lib\\site-packages (from nemo_toolkit[asr]) (0.8.0)\n",
      "Requirement already satisfied: marshmallow in c:\\users\\hapir\\anaconda3\\envs\\bigai\\lib\\site-packages (from nemo_toolkit[asr]) (3.12.1)\n",
      "Requirement already satisfied: packaging in c:\\users\\hapir\\anaconda3\\envs\\bigai\\lib\\site-packages (from nemo_toolkit[asr]) (20.9)\n",
      "Requirement already satisfied: soundfile in c:\\users\\hapir\\anaconda3\\envs\\bigai\\lib\\site-packages (from nemo_toolkit[asr]) (0.10.3.post1)\n",
      "Requirement already satisfied: sox in c:\\users\\hapir\\anaconda3\\envs\\bigai\\lib\\site-packages (from nemo_toolkit[asr]) (1.4.1)\n",
      "Requirement already satisfied: unidecode in c:\\users\\hapir\\anaconda3\\envs\\bigai\\lib\\site-packages (from nemo_toolkit[asr]) (1.1.2)\n",
      "Requirement already satisfied: kaldi-python-io in c:\\users\\hapir\\anaconda3\\envs\\bigai\\lib\\site-packages (from nemo_toolkit[asr]) (1.2.2)\n",
      "Requirement already satisfied: kaldiio in c:\\users\\hapir\\anaconda3\\envs\\bigai\\lib\\site-packages (from nemo_toolkit[asr]) (2.17.2)\n",
      "Requirement already satisfied: scipy in c:\\users\\hapir\\anaconda3\\envs\\bigai\\lib\\site-packages (from nemo_toolkit[asr]) (1.6.2)\n",
      "Requirement already satisfied: pandas in c:\\users\\hapir\\anaconda3\\envs\\bigai\\lib\\site-packages (from nemo_toolkit[asr]) (1.2.3)\n",
      "Requirement already satisfied: g2p_en in c:\\users\\hapir\\anaconda3\\envs\\bigai\\lib\\site-packages (from nemo_toolkit[asr]) (2.1.0)\n",
      "Requirement already satisfied: pydub in c:\\users\\hapir\\anaconda3\\envs\\bigai\\lib\\site-packages (from nemo_toolkit[asr]) (0.25.1)\n",
      "Requirement already satisfied: pyannote.core in c:\\users\\hapir\\anaconda3\\envs\\bigai\\lib\\site-packages (from nemo_toolkit[asr]) (4.1)\n",
      "Requirement already satisfied: pyannote.metrics in c:\\users\\hapir\\anaconda3\\envs\\bigai\\lib\\site-packages (from nemo_toolkit[asr]) (3.0.1)\n",
      "Requirement already satisfied: pyamg in c:\\users\\hapir\\anaconda3\\envs\\bigai\\lib\\site-packages (from nemo_toolkit[asr]) (4.1.0)\n",
      "Requirement already satisfied: torch-stft in c:\\users\\hapir\\anaconda3\\envs\\bigai\\lib\\site-packages (from nemo_toolkit[asr]) (0.1.4)\n",
      "Requirement already satisfied: matplotlib in c:\\users\\hapir\\anaconda3\\envs\\bigai\\lib\\site-packages (from nemo_toolkit[asr]) (3.4.1)\n",
      "Requirement already satisfied: antlr4-python3-runtime==4.8 in c:\\users\\hapir\\anaconda3\\envs\\bigai\\lib\\site-packages (from hydra-core>=1.0.4->nemo_toolkit[asr]) (4.8)\n",
      "Requirement already satisfied: importlib-resources in c:\\users\\hapir\\anaconda3\\envs\\bigai\\lib\\site-packages (from hydra-core>=1.0.4->nemo_toolkit[asr]) (5.1.4)\n",
      "Requirement already satisfied: typing-extensions in c:\\users\\hapir\\anaconda3\\envs\\bigai\\lib\\site-packages (from omegaconf<2.1.0,>=2.0.5->nemo_toolkit[asr]) (3.7.4.3)\n",
      "Requirement already satisfied: PyYAML>=5.1.* in c:\\users\\hapir\\anaconda3\\envs\\bigai\\lib\\site-packages (from omegaconf<2.1.0,>=2.0.5->nemo_toolkit[asr]) (5.3.1)\n",
      "Requirement already satisfied: protobuf in c:\\users\\hapir\\anaconda3\\envs\\bigai\\lib\\site-packages (from onnx>=1.7.0->nemo_toolkit[asr]) (3.14.0)\n",
      "Requirement already satisfied: six in c:\\users\\hapir\\anaconda3\\envs\\bigai\\lib\\site-packages (from onnx>=1.7.0->nemo_toolkit[asr]) (1.15.0)\n",
      "Requirement already satisfied: fsspec[http]>=0.8.1 in c:\\users\\hapir\\anaconda3\\envs\\bigai\\lib\\site-packages (from pytorch-lightning<=1.2.10,>=1.2.8->nemo_toolkit[asr]) (0.8.7)\n",
      "Requirement already satisfied: future>=0.17.1 in c:\\users\\hapir\\anaconda3\\envs\\bigai\\lib\\site-packages (from pytorch-lightning<=1.2.10,>=1.2.8->nemo_toolkit[asr]) (0.18.2)\n",
      "Requirement already satisfied: torchmetrics==0.2.0 in c:\\users\\hapir\\anaconda3\\envs\\bigai\\lib\\site-packages (from pytorch-lightning<=1.2.10,>=1.2.8->nemo_toolkit[asr]) (0.2.0)\n",
      "Requirement already satisfied: tensorboard!=2.5.0,>=2.2.0 in c:\\users\\hapir\\anaconda3\\envs\\bigai\\lib\\site-packages (from pytorch-lightning<=1.2.10,>=1.2.8->nemo_toolkit[asr]) (2.4.1)\n",
      "Requirement already satisfied: aiohttp in c:\\users\\hapir\\anaconda3\\envs\\bigai\\lib\\site-packages (from fsspec[http]>=0.8.1->pytorch-lightning<=1.2.10,>=1.2.8->nemo_toolkit[asr]) (3.7.4.post0)\n",
      "Requirement already satisfied: requests in c:\\users\\hapir\\anaconda3\\envs\\bigai\\lib\\site-packages (from fsspec[http]>=0.8.1->pytorch-lightning<=1.2.10,>=1.2.8->nemo_toolkit[asr]) (2.25.1)\n",
      "Requirement already satisfied: grpcio>=1.24.3 in c:\\users\\hapir\\anaconda3\\envs\\bigai\\lib\\site-packages (from tensorboard!=2.5.0,>=2.2.0->pytorch-lightning<=1.2.10,>=1.2.8->nemo_toolkit[asr]) (1.34.1)\n",
      "Requirement already satisfied: google-auth<2,>=1.6.3 in c:\\users\\hapir\\anaconda3\\envs\\bigai\\lib\\site-packages (from tensorboard!=2.5.0,>=2.2.0->pytorch-lightning<=1.2.10,>=1.2.8->nemo_toolkit[asr]) (1.28.0)\n",
      "Requirement already satisfied: werkzeug>=0.11.15 in c:\\users\\hapir\\anaconda3\\envs\\bigai\\lib\\site-packages (from tensorboard!=2.5.0,>=2.2.0->pytorch-lightning<=1.2.10,>=1.2.8->nemo_toolkit[asr]) (1.0.1)\n",
      "Requirement already satisfied: absl-py>=0.4 in c:\\users\\hapir\\anaconda3\\envs\\bigai\\lib\\site-packages (from tensorboard!=2.5.0,>=2.2.0->pytorch-lightning<=1.2.10,>=1.2.8->nemo_toolkit[asr]) (0.11.0)\n",
      "Requirement already satisfied: setuptools>=41.0.0 in c:\\users\\hapir\\anaconda3\\envs\\bigai\\lib\\site-packages (from tensorboard!=2.5.0,>=2.2.0->pytorch-lightning<=1.2.10,>=1.2.8->nemo_toolkit[asr]) (57.0.0)\n",
      "Requirement already satisfied: wheel>=0.26 in c:\\users\\hapir\\anaconda3\\envs\\bigai\\lib\\site-packages (from tensorboard!=2.5.0,>=2.2.0->pytorch-lightning<=1.2.10,>=1.2.8->nemo_toolkit[asr]) (0.36.2)\n",
      "Requirement already satisfied: tensorboard-plugin-wit>=1.6.0 in c:\\users\\hapir\\anaconda3\\envs\\bigai\\lib\\site-packages (from tensorboard!=2.5.0,>=2.2.0->pytorch-lightning<=1.2.10,>=1.2.8->nemo_toolkit[asr]) (1.7.0)\n",
      "Requirement already satisfied: markdown>=2.6.8 in c:\\users\\hapir\\anaconda3\\envs\\bigai\\lib\\site-packages (from tensorboard!=2.5.0,>=2.2.0->pytorch-lightning<=1.2.10,>=1.2.8->nemo_toolkit[asr]) (3.3.3)\n",
      "Requirement already satisfied: google-auth-oauthlib<0.5,>=0.4.1 in c:\\users\\hapir\\anaconda3\\envs\\bigai\\lib\\site-packages (from tensorboard!=2.5.0,>=2.2.0->pytorch-lightning<=1.2.10,>=1.2.8->nemo_toolkit[asr]) (0.4.2)\n",
      "Requirement already satisfied: rsa<5,>=3.1.4 in c:\\users\\hapir\\anaconda3\\envs\\bigai\\lib\\site-packages (from google-auth<2,>=1.6.3->tensorboard!=2.5.0,>=2.2.0->pytorch-lightning<=1.2.10,>=1.2.8->nemo_toolkit[asr]) (4.6)\n",
      "Requirement already satisfied: cachetools<5.0,>=2.0.0 in c:\\users\\hapir\\anaconda3\\envs\\bigai\\lib\\site-packages (from google-auth<2,>=1.6.3->tensorboard!=2.5.0,>=2.2.0->pytorch-lightning<=1.2.10,>=1.2.8->nemo_toolkit[asr]) (4.2.2)\n",
      "Requirement already satisfied: pyasn1-modules>=0.2.1 in c:\\users\\hapir\\anaconda3\\envs\\bigai\\lib\\site-packages (from google-auth<2,>=1.6.3->tensorboard!=2.5.0,>=2.2.0->pytorch-lightning<=1.2.10,>=1.2.8->nemo_toolkit[asr]) (0.2.8)\n",
      "Requirement already satisfied: requests-oauthlib>=0.7.0 in c:\\users\\hapir\\anaconda3\\envs\\bigai\\lib\\site-packages (from google-auth-oauthlib<0.5,>=0.4.1->tensorboard!=2.5.0,>=2.2.0->pytorch-lightning<=1.2.10,>=1.2.8->nemo_toolkit[asr]) (1.3.0)\n",
      "Requirement already satisfied: pyasn1<0.5.0,>=0.4.6 in c:\\users\\hapir\\anaconda3\\envs\\bigai\\lib\\site-packages (from pyasn1-modules>=0.2.1->google-auth<2,>=1.6.3->tensorboard!=2.5.0,>=2.2.0->pytorch-lightning<=1.2.10,>=1.2.8->nemo_toolkit[asr]) (0.4.8)\n",
      "Requirement already satisfied: certifi>=2017.4.17 in c:\\users\\hapir\\anaconda3\\envs\\bigai\\lib\\site-packages (from requests->fsspec[http]>=0.8.1->pytorch-lightning<=1.2.10,>=1.2.8->nemo_toolkit[asr]) (2021.5.30)\n",
      "Requirement already satisfied: chardet<5,>=3.0.2 in c:\\users\\hapir\\anaconda3\\envs\\bigai\\lib\\site-packages (from requests->fsspec[http]>=0.8.1->pytorch-lightning<=1.2.10,>=1.2.8->nemo_toolkit[asr]) (4.0.0)\n",
      "Requirement already satisfied: idna<3,>=2.5 in c:\\users\\hapir\\anaconda3\\envs\\bigai\\lib\\site-packages (from requests->fsspec[http]>=0.8.1->pytorch-lightning<=1.2.10,>=1.2.8->nemo_toolkit[asr]) (2.10)\n",
      "Requirement already satisfied: urllib3<1.27,>=1.21.1 in c:\\users\\hapir\\anaconda3\\envs\\bigai\\lib\\site-packages (from requests->fsspec[http]>=0.8.1->pytorch-lightning<=1.2.10,>=1.2.8->nemo_toolkit[asr]) (1.26.4)\n",
      "Requirement already satisfied: oauthlib>=3.0.0 in c:\\users\\hapir\\anaconda3\\envs\\bigai\\lib\\site-packages (from requests-oauthlib>=0.7.0->google-auth-oauthlib<0.5,>=0.4.1->tensorboard!=2.5.0,>=2.2.0->pytorch-lightning<=1.2.10,>=1.2.8->nemo_toolkit[asr]) (3.1.0)\n",
      "Requirement already satisfied: tokenizers==0.9.4 in c:\\users\\hapir\\anaconda3\\envs\\bigai\\lib\\site-packages (from transformers>=4.0.1->nemo_toolkit[asr]) (0.9.4)\n",
      "Requirement already satisfied: sacremoses in c:\\users\\hapir\\anaconda3\\envs\\bigai\\lib\\site-packages (from transformers>=4.0.1->nemo_toolkit[asr]) (0.0.43)\n",
      "Requirement already satisfied: filelock in c:\\users\\hapir\\anaconda3\\envs\\bigai\\lib\\site-packages (from transformers>=4.0.1->nemo_toolkit[asr]) (3.0.12)\n",
      "Requirement already satisfied: regex!=2019.12.17 in c:\\users\\hapir\\anaconda3\\envs\\bigai\\lib\\site-packages (from transformers>=4.0.1->nemo_toolkit[asr]) (2020.11.13)\n",
      "Requirement already satisfied: async-timeout<4.0,>=3.0 in c:\\users\\hapir\\anaconda3\\envs\\bigai\\lib\\site-packages (from aiohttp->fsspec[http]>=0.8.1->pytorch-lightning<=1.2.10,>=1.2.8->nemo_toolkit[asr]) (3.0.1)\n",
      "Requirement already satisfied: yarl<2.0,>=1.0 in c:\\users\\hapir\\anaconda3\\envs\\bigai\\lib\\site-packages (from aiohttp->fsspec[http]>=0.8.1->pytorch-lightning<=1.2.10,>=1.2.8->nemo_toolkit[asr]) (1.6.3)\n",
      "Requirement already satisfied: attrs>=17.3.0 in c:\\users\\hapir\\anaconda3\\envs\\bigai\\lib\\site-packages (from aiohttp->fsspec[http]>=0.8.1->pytorch-lightning<=1.2.10,>=1.2.8->nemo_toolkit[asr]) (20.3.0)\n",
      "Requirement already satisfied: multidict<7.0,>=4.5 in c:\\users\\hapir\\anaconda3\\envs\\bigai\\lib\\site-packages (from aiohttp->fsspec[http]>=0.8.1->pytorch-lightning<=1.2.10,>=1.2.8->nemo_toolkit[asr]) (5.1.0)\n",
      "Requirement already satisfied: distance>=0.1.3 in c:\\users\\hapir\\anaconda3\\envs\\bigai\\lib\\site-packages (from g2p_en->nemo_toolkit[asr]) (0.1.3)\n",
      "Requirement already satisfied: nltk>=3.2.4 in c:\\users\\hapir\\anaconda3\\envs\\bigai\\lib\\site-packages (from g2p_en->nemo_toolkit[asr]) (3.6.2)\n",
      "Requirement already satisfied: click in c:\\users\\hapir\\anaconda3\\envs\\bigai\\lib\\site-packages (from nltk>=3.2.4->g2p_en->nemo_toolkit[asr]) (7.1.2)\n",
      "Requirement already satisfied: joblib in c:\\users\\hapir\\anaconda3\\envs\\bigai\\lib\\site-packages (from nltk>=3.2.4->g2p_en->nemo_toolkit[asr]) (1.0.1)\n",
      "Requirement already satisfied: zipp>=3.1.0 in c:\\users\\hapir\\anaconda3\\envs\\bigai\\lib\\site-packages (from importlib-resources->hydra-core>=1.0.4->nemo_toolkit[asr]) (3.4.1)\n",
      "Requirement already satisfied: decorator>=3.0.0 in c:\\users\\hapir\\anaconda3\\envs\\bigai\\lib\\site-packages (from librosa->nemo_toolkit[asr]) (4.4.2)\n",
      "Requirement already satisfied: pooch>=1.0 in c:\\users\\hapir\\anaconda3\\envs\\bigai\\lib\\site-packages (from librosa->nemo_toolkit[asr]) (1.3.0)\n",
      "Requirement already satisfied: resampy>=0.2.2 in c:\\users\\hapir\\anaconda3\\envs\\bigai\\lib\\site-packages (from librosa->nemo_toolkit[asr]) (0.2.2)\n",
      "Requirement already satisfied: audioread>=2.0.0 in c:\\users\\hapir\\anaconda3\\envs\\bigai\\lib\\site-packages (from librosa->nemo_toolkit[asr]) (2.1.9)\n",
      "Requirement already satisfied: llvmlite<0.36,>=0.35.0 in c:\\users\\hapir\\anaconda3\\envs\\bigai\\lib\\site-packages (from numba->nemo_toolkit[asr]) (0.35.0)\n",
      "Requirement already satisfied: appdirs in c:\\users\\hapir\\anaconda3\\envs\\bigai\\lib\\site-packages (from pooch>=1.0->librosa->nemo_toolkit[asr]) (1.4.4)\n",
      "Requirement already satisfied: threadpoolctl>=2.0.0 in c:\\users\\hapir\\anaconda3\\envs\\bigai\\lib\\site-packages (from scikit-learn->nemo_toolkit[asr]) (2.1.0)\n",
      "Requirement already satisfied: cffi>=1.0 in c:\\users\\hapir\\anaconda3\\envs\\bigai\\lib\\site-packages (from soundfile->nemo_toolkit[asr]) (1.14.5)\n",
      "Requirement already satisfied: pycparser in c:\\users\\hapir\\anaconda3\\envs\\bigai\\lib\\site-packages (from cffi>=1.0->soundfile->nemo_toolkit[asr]) (2.20)\n",
      "Requirement already satisfied: kiwisolver>=1.0.1 in c:\\users\\hapir\\anaconda3\\envs\\bigai\\lib\\site-packages (from matplotlib->nemo_toolkit[asr]) (1.3.1)\n",
      "Requirement already satisfied: pillow>=6.2.0 in c:\\users\\hapir\\anaconda3\\envs\\bigai\\lib\\site-packages (from matplotlib->nemo_toolkit[asr]) (8.1.2)\n",
      "Requirement already satisfied: cycler>=0.10 in c:\\users\\hapir\\anaconda3\\envs\\bigai\\lib\\site-packages (from matplotlib->nemo_toolkit[asr]) (0.10.0)\n",
      "Requirement already satisfied: pyparsing>=2.2.1 in c:\\users\\hapir\\anaconda3\\envs\\bigai\\lib\\site-packages (from matplotlib->nemo_toolkit[asr]) (2.4.7)\n",
      "Requirement already satisfied: pytz>=2017.3 in c:\\users\\hapir\\anaconda3\\envs\\bigai\\lib\\site-packages (from pandas->nemo_toolkit[asr]) (2021.1)\n",
      "Requirement already satisfied: pytest>=2 in c:\\users\\hapir\\anaconda3\\envs\\bigai\\lib\\site-packages (from pyamg->nemo_toolkit[asr]) (6.2.4)\n",
      "Requirement already satisfied: pluggy<1.0.0a1,>=0.12 in c:\\users\\hapir\\anaconda3\\envs\\bigai\\lib\\site-packages (from pytest>=2->pyamg->nemo_toolkit[asr]) (0.13.1)\n",
      "Requirement already satisfied: iniconfig in c:\\users\\hapir\\anaconda3\\envs\\bigai\\lib\\site-packages (from pytest>=2->pyamg->nemo_toolkit[asr]) (1.1.1)\n",
      "Requirement already satisfied: toml in c:\\users\\hapir\\anaconda3\\envs\\bigai\\lib\\site-packages (from pytest>=2->pyamg->nemo_toolkit[asr]) (0.10.2)\n",
      "Requirement already satisfied: colorama in c:\\users\\hapir\\anaconda3\\envs\\bigai\\lib\\site-packages (from pytest>=2->pyamg->nemo_toolkit[asr]) (0.4.4)\n",
      "Requirement already satisfied: atomicwrites>=1.0 in c:\\users\\hapir\\anaconda3\\envs\\bigai\\lib\\site-packages (from pytest>=2->pyamg->nemo_toolkit[asr]) (1.4.0)\n",
      "Requirement already satisfied: py>=1.8.2 in c:\\users\\hapir\\anaconda3\\envs\\bigai\\lib\\site-packages (from pytest>=2->pyamg->nemo_toolkit[asr]) (1.10.0)\n",
      "Requirement already satisfied: simplejson>=3.8.1 in c:\\users\\hapir\\anaconda3\\envs\\bigai\\lib\\site-packages (from pyannote.core->nemo_toolkit[asr]) (3.17.2)\n",
      "Requirement already satisfied: sortedcontainers>=2.0.4 in c:\\users\\hapir\\anaconda3\\envs\\bigai\\lib\\site-packages (from pyannote.core->nemo_toolkit[asr]) (2.3.0)\n",
      "Requirement already satisfied: sympy>=1.1 in c:\\users\\hapir\\anaconda3\\envs\\bigai\\lib\\site-packages (from pyannote.metrics->nemo_toolkit[asr]) (1.7.1)\n",
      "Requirement already satisfied: pyannote.database>=4.0.1 in c:\\users\\hapir\\anaconda3\\envs\\bigai\\lib\\site-packages (from pyannote.metrics->nemo_toolkit[asr]) (4.1)\n",
      "Requirement already satisfied: docopt>=0.6.2 in c:\\users\\hapir\\anaconda3\\envs\\bigai\\lib\\site-packages (from pyannote.metrics->nemo_toolkit[asr]) (0.6.2)\n",
      "Requirement already satisfied: tabulate>=0.7.7 in c:\\users\\hapir\\anaconda3\\envs\\bigai\\lib\\site-packages (from pyannote.metrics->nemo_toolkit[asr]) (0.8.9)\n",
      "Requirement already satisfied: typer[all]>=0.2.1 in c:\\users\\hapir\\anaconda3\\envs\\bigai\\lib\\site-packages (from pyannote.database>=4.0.1->pyannote.metrics->nemo_toolkit[asr]) (0.3.2)\n",
      "Requirement already satisfied: mpmath>=0.19 in c:\\users\\hapir\\anaconda3\\envs\\bigai\\lib\\site-packages (from sympy>=1.1->pyannote.metrics->nemo_toolkit[asr]) (1.1.0)\n",
      "Requirement already satisfied: shellingham<2.0.0,>=1.3.0 in c:\\users\\hapir\\anaconda3\\envs\\bigai\\lib\\site-packages (from typer[all]>=0.2.1->pyannote.database>=4.0.1->pyannote.metrics->nemo_toolkit[asr]) (1.4.0)\n",
      "Requirement already satisfied: ruamel.yaml.clib>=0.1.2 in c:\\users\\hapir\\anaconda3\\envs\\bigai\\lib\\site-packages (from ruamel.yaml->nemo_toolkit[asr]) (0.2.2)\n"
     ]
    },
    {
     "name": "stderr",
     "output_type": "stream",
     "text": [
      "WARNING: Ignoring invalid distribution -illow (c:\\users\\hapir\\anaconda3\\envs\\bigai\\lib\\site-packages)\n",
      "WARNING: Ignoring invalid distribution -illow (c:\\users\\hapir\\anaconda3\\envs\\bigai\\lib\\site-packages)\n",
      "WARNING: Ignoring invalid distribution -illow (c:\\users\\hapir\\anaconda3\\envs\\bigai\\lib\\site-packages)\n",
      "WARNING: Ignoring invalid distribution -illow (c:\\users\\hapir\\anaconda3\\envs\\bigai\\lib\\site-packages)\n",
      "WARNING: Ignoring invalid distribution -illow (c:\\users\\hapir\\anaconda3\\envs\\bigai\\lib\\site-packages)\n",
      "A subdirectory or file configs already exists.\n"
     ]
    }
   ],
   "source": [
    "\"\"\"\n",
    "Please run notebook locally (if you have all the dependencies and a GPU). \n",
    "Technically you can run this notebook on Google Colab but you need to set up microphone for Colab.\n",
    "\n",
    "Instructions for setting up Colab are as follows:\n",
    "1. Open a new Python 3 notebook.\n",
    "2. Import this notebook from GitHub (File -> Upload Notebook -> \"GITHUB\" tab -> copy/paste GitHub URL)\n",
    "3. Connect to an instance with a GPU (Runtime -> Change runtime type -> select \"GPU\" for hardware accelerator)\n",
    "4. Run this cell to set up dependencies.\n",
    "5. Set up microphone for Colab\n",
    "\"\"\"\n",
    "# If you're using Google Colab and not running locally, run this cell.\n",
    "\n",
    "## Install dependencies\n",
    "!pip install wget\n",
    "!apt-get install sox libsndfile1 ffmpeg portaudio19-dev\n",
    "!pip install unidecode\n",
    "!pip install pyaudio\n",
    "\n",
    "# ## Install NeMo\n",
    "BRANCH = 'v1.0.0'\n",
    "!python -m pip install git+https://github.com/NVIDIA/NeMo.git@$BRANCH#egg=nemo_toolkit[asr]\n",
    "\n",
    "## Install TorchAudio\n",
    "!pip install torchaudio>=0.6.0 -f https://download.pytorch.org/whl/torch_stable.html\n",
    "\n",
    "## Grab the config we'll use in this example\n",
    "!mkdir configs"
   ]
  },
  {
   "cell_type": "markdown",
   "metadata": {},
   "source": [
    "This notebook demonstrates automatic speech recognition (ASR) from a microphone's stream in NeMo.\n",
    "\n",
    "It is **not a recommended** way to do inference in production workflows. If you are interested in \n",
    "production-level inference using NeMo ASR models, please sign-up to Jarvis early access program: https://developer.nvidia.com/nvidia-jarvis"
   ]
  },
  {
   "cell_type": "markdown",
   "metadata": {},
   "source": [
    "The notebook requires PyAudio library to get a signal from an audio device.\n",
    "For Ubuntu, please run the following commands to install it:\n",
    "```\n",
    "sudo apt-get install -y portaudio19-dev\n",
    "pip install pyaudio\n",
    "```"
   ]
  },
  {
   "cell_type": "markdown",
   "metadata": {},
   "source": [
    "This notebook requires the `torchaudio` library to be installed for MatchboxNet. Please follow the instructions available at the [torchaudio Github page](https://github.com/pytorch/audio#installation) to install the appropriate version of torchaudio.\n",
    "\n",
    "If you would like to install the latest version, please run the following command to install it:\n",
    "\n",
    "```\n",
    "conda install -c pytorch torchaudio\n",
    "```"
   ]
  },
  {
   "cell_type": "code",
   "execution_count": 2,
   "metadata": {},
   "outputs": [],
   "source": [
    "import numpy as np\n",
    "import pyaudio as pa\n",
    "import os, time"
   ]
  },
  {
   "cell_type": "code",
   "execution_count": null,
   "metadata": {},
   "outputs": [],
   "source": [
    "import nemo\n",
    "import nemo.collections.asr as nemo_asr"
   ]
  },
  {
   "cell_type": "code",
   "execution_count": null,
   "metadata": {},
   "outputs": [],
   "source": [
    "# sample rate, Hz\n",
    "SAMPLE_RATE = 16000"
   ]
  },
  {
   "cell_type": "markdown",
   "metadata": {},
   "source": [
    "## Restore the model from NGC"
   ]
  },
  {
   "cell_type": "code",
   "execution_count": null,
   "metadata": {},
   "outputs": [],
   "source": [
    "asr_model = nemo_asr.models.EncDecCTCModel.from_pretrained('stt_es_quartznet15x5')"
   ]
  },
  {
   "cell_type": "markdown",
   "metadata": {},
   "source": [
    "## Observing the config of the model"
   ]
  },
  {
   "cell_type": "code",
   "execution_count": null,
   "metadata": {},
   "outputs": [],
   "source": [
    "from omegaconf import OmegaConf\n",
    "import copy"
   ]
  },
  {
   "cell_type": "code",
   "execution_count": null,
   "metadata": {
    "scrolled": true
   },
   "outputs": [],
   "source": [
    "# Preserve a copy of the full config\n",
    "cfg = copy.deepcopy(asr_model._cfg)\n",
    "print(OmegaConf.to_yaml(cfg))"
   ]
  },
  {
   "cell_type": "markdown",
   "metadata": {},
   "source": [
    "### Modify preprocessor parameters for inference"
   ]
  },
  {
   "cell_type": "code",
   "execution_count": null,
   "metadata": {},
   "outputs": [],
   "source": [
    "# Make config overwrite-able\n",
    "OmegaConf.set_struct(cfg.preprocessor, False)\n",
    "\n",
    "# some changes for streaming scenario\n",
    "cfg.preprocessor.dither = 0.0\n",
    "cfg.preprocessor.pad_to = 0\n",
    "\n",
    "# spectrogram normalization constants\n",
    "normalization = {}\n",
    "normalization['fixed_mean'] = [\n",
    "     -14.95827016, -12.71798736, -11.76067913, -10.83311182,\n",
    "     -10.6746914,  -10.15163465, -10.05378331, -9.53918999,\n",
    "     -9.41858904,  -9.23382904,  -9.46470918,  -9.56037,\n",
    "     -9.57434245,  -9.47498732,  -9.7635205,   -10.08113074,\n",
    "     -10.05454561, -9.81112681,  -9.68673603,  -9.83652977,\n",
    "     -9.90046248,  -9.85404766,  -9.92560366,  -9.95440354,\n",
    "     -10.17162966, -9.90102482,  -9.47471025,  -9.54416855,\n",
    "     -10.07109475, -9.98249912,  -9.74359465,  -9.55632283,\n",
    "     -9.23399915,  -9.36487649,  -9.81791084,  -9.56799225,\n",
    "     -9.70630899,  -9.85148006,  -9.8594418,   -10.01378735,\n",
    "     -9.98505315,  -9.62016094,  -10.342285,   -10.41070709,\n",
    "     -10.10687659, -10.14536695, -10.30828702, -10.23542833,\n",
    "     -10.88546868, -11.31723646, -11.46087382, -11.54877829,\n",
    "     -11.62400934, -11.92190509, -12.14063815, -11.65130117,\n",
    "     -11.58308531, -12.22214663, -12.42927197, -12.58039805,\n",
    "     -13.10098969, -13.14345864, -13.31835645, -14.47345634]\n",
    "normalization['fixed_std'] = [\n",
    "     3.81402054, 4.12647781, 4.05007065, 3.87790987,\n",
    "     3.74721178, 3.68377423, 3.69344,    3.54001005,\n",
    "     3.59530412, 3.63752368, 3.62826417, 3.56488469,\n",
    "     3.53740577, 3.68313898, 3.67138151, 3.55707266,\n",
    "     3.54919572, 3.55721289, 3.56723346, 3.46029304,\n",
    "     3.44119672, 3.49030548, 3.39328435, 3.28244406,\n",
    "     3.28001423, 3.26744937, 3.46692348, 3.35378948,\n",
    "     2.96330901, 2.97663111, 3.04575148, 2.89717604,\n",
    "     2.95659301, 2.90181116, 2.7111687,  2.93041291,\n",
    "     2.86647897, 2.73473181, 2.71495654, 2.75543763,\n",
    "     2.79174615, 2.96076456, 2.57376336, 2.68789782,\n",
    "     2.90930817, 2.90412004, 2.76187531, 2.89905006,\n",
    "     2.65896173, 2.81032176, 2.87769857, 2.84665271,\n",
    "     2.80863137, 2.80707634, 2.83752184, 3.01914511,\n",
    "     2.92046439, 2.78461139, 2.90034605, 2.94599508,\n",
    "     2.99099718, 3.0167554,  3.04649716, 2.94116777]\n",
    "\n",
    "cfg.preprocessor.normalize = normalization\n",
    "\n",
    "# Disable config overwriting\n",
    "OmegaConf.set_struct(cfg.preprocessor, True)"
   ]
  },
  {
   "cell_type": "markdown",
   "metadata": {},
   "source": [
    "## Setup preprocessor with these settings"
   ]
  },
  {
   "cell_type": "code",
   "execution_count": null,
   "metadata": {},
   "outputs": [],
   "source": [
    "asr_model.preprocessor = asr_model.from_config_dict(cfg.preprocessor)"
   ]
  },
  {
   "cell_type": "code",
   "execution_count": null,
   "metadata": {},
   "outputs": [],
   "source": [
    "# Set model to inference mode\n",
    "asr_model.eval();"
   ]
  },
  {
   "cell_type": "code",
   "execution_count": null,
   "metadata": {},
   "outputs": [],
   "source": [
    "asr_model = asr_model.to(asr_model.device)"
   ]
  },
  {
   "cell_type": "markdown",
   "metadata": {},
   "source": [
    "## Setting up data for Streaming Inference"
   ]
  },
  {
   "cell_type": "code",
   "execution_count": null,
   "metadata": {},
   "outputs": [],
   "source": [
    "from nemo.core.classes import IterableDataset\n",
    "from nemo.core.neural_types import NeuralType, AudioSignal, LengthsType\n",
    "import torch\n",
    "from torch.utils.data import DataLoader"
   ]
  },
  {
   "cell_type": "code",
   "execution_count": null,
   "metadata": {},
   "outputs": [],
   "source": [
    "# simple data layer to pass audio signal\n",
    "class AudioDataLayer(IterableDataset):\n",
    "    @property\n",
    "    def output_types(self):\n",
    "        return {\n",
    "            'audio_signal': NeuralType(('B', 'T'), AudioSignal(freq=self._sample_rate)),\n",
    "            'a_sig_length': NeuralType(tuple('B'), LengthsType()),\n",
    "        }\n",
    "\n",
    "    def __init__(self, sample_rate):\n",
    "        super().__init__()\n",
    "        self._sample_rate = sample_rate\n",
    "        self.output = True\n",
    "        \n",
    "    def __iter__(self):\n",
    "        return self\n",
    "    \n",
    "    def __next__(self):\n",
    "        if not self.output:\n",
    "            raise StopIteration\n",
    "        self.output = False\n",
    "        return torch.as_tensor(self.signal, dtype=torch.float32), \\\n",
    "               torch.as_tensor(self.signal_shape, dtype=torch.int64)\n",
    "        \n",
    "    def set_signal(self, signal):\n",
    "        self.signal = signal.astype(np.float32)/32768.\n",
    "        self.signal_shape = self.signal.size\n",
    "        self.output = True\n",
    "\n",
    "    def __len__(self):\n",
    "        return 1"
   ]
  },
  {
   "cell_type": "code",
   "execution_count": null,
   "metadata": {},
   "outputs": [],
   "source": [
    "data_layer = AudioDataLayer(sample_rate=cfg.preprocessor.sample_rate)\n",
    "data_loader = DataLoader(data_layer, batch_size=1, collate_fn=data_layer.collate_fn)"
   ]
  },
  {
   "cell_type": "code",
   "execution_count": null,
   "metadata": {},
   "outputs": [],
   "source": [
    "# inference method for audio signal (single instance)\n",
    "def infer_signal(model, signal):\n",
    "    data_layer.set_signal(signal)\n",
    "    batch = next(iter(data_loader))\n",
    "    audio_signal, audio_signal_len = batch\n",
    "    audio_signal, audio_signal_len = audio_signal.to(asr_model.device), audio_signal_len.to(asr_model.device)\n",
    "    log_probs, encoded_len, predictions = model.forward(\n",
    "        input_signal=audio_signal, input_signal_length=audio_signal_len\n",
    "    )\n",
    "    return log_probs"
   ]
  },
  {
   "cell_type": "code",
   "execution_count": null,
   "metadata": {},
   "outputs": [],
   "source": [
    "# class for streaming frame-based ASR\n",
    "# 1) use reset() method to reset FrameASR's state\n",
    "# 2) call transcribe(frame) to do ASR on\n",
    "#    contiguous signal's frames\n",
    "class FrameASR:\n",
    "    \n",
    "    def __init__(self, model_definition,\n",
    "                 frame_len=2, frame_overlap=2.5, \n",
    "                 offset=10):\n",
    "        '''\n",
    "        Args:\n",
    "          frame_len: frame's duration, seconds\n",
    "          frame_overlap: duration of overlaps before and after current frame, seconds\n",
    "          offset: number of symbols to drop for smooth streaming\n",
    "        '''\n",
    "        self.vocab = list(model_definition['labels'])\n",
    "        self.vocab.append('_')\n",
    "        \n",
    "        self.sr = model_definition['sample_rate']\n",
    "        self.frame_len = frame_len\n",
    "        self.n_frame_len = int(frame_len * self.sr)\n",
    "        self.frame_overlap = frame_overlap\n",
    "        self.n_frame_overlap = int(frame_overlap * self.sr)\n",
    "        timestep_duration = model_definition['AudioToMelSpectrogramPreprocessor']['window_stride']\n",
    "        for block in model_definition['JasperEncoder']['jasper']:\n",
    "            timestep_duration *= block['stride'][0] ** block['repeat']\n",
    "        self.n_timesteps_overlap = int(frame_overlap / timestep_duration) - 2\n",
    "        self.buffer = np.zeros(shape=2*self.n_frame_overlap + self.n_frame_len,\n",
    "                               dtype=np.float32)\n",
    "        self.offset = offset\n",
    "        self.reset()\n",
    "        \n",
    "    def _decode(self, frame, offset=0):\n",
    "        assert len(frame)==self.n_frame_len\n",
    "        self.buffer[:-self.n_frame_len] = self.buffer[self.n_frame_len:]\n",
    "        self.buffer[-self.n_frame_len:] = frame\n",
    "        logits = infer_signal(asr_model, self.buffer).cpu().numpy()[0]\n",
    "        # print(logits.shape)\n",
    "        decoded = self._greedy_decoder(\n",
    "            logits[self.n_timesteps_overlap:-self.n_timesteps_overlap], \n",
    "            self.vocab\n",
    "        )\n",
    "        return decoded[:len(decoded)-offset]\n",
    "    \n",
    "    @torch.no_grad()\n",
    "    def transcribe(self, frame=None, merge=True):\n",
    "        if frame is None:\n",
    "            frame = np.zeros(shape=self.n_frame_len, dtype=np.float32)\n",
    "        if len(frame) < self.n_frame_len:\n",
    "            frame = np.pad(frame, [0, self.n_frame_len - len(frame)], 'constant')\n",
    "        unmerged = self._decode(frame, self.offset)\n",
    "        if not merge:\n",
    "            return unmerged\n",
    "        return self.greedy_merge(unmerged)\n",
    "    \n",
    "    def reset(self):\n",
    "        '''\n",
    "        Reset frame_history and decoder's state\n",
    "        '''\n",
    "        self.buffer=np.zeros(shape=self.buffer.shape, dtype=np.float32)\n",
    "        self.prev_char = ''\n",
    "\n",
    "    @staticmethod\n",
    "    def _greedy_decoder(logits, vocab):\n",
    "        s = ''\n",
    "        for i in range(logits.shape[0]):\n",
    "            s += vocab[np.argmax(logits[i])]\n",
    "        return s\n",
    "\n",
    "    def greedy_merge(self, s):\n",
    "        s_merged = ''\n",
    "        \n",
    "        for i in range(len(s)):\n",
    "            if s[i] != self.prev_char:\n",
    "                self.prev_char = s[i]\n",
    "                if self.prev_char != '_':\n",
    "                    s_merged += self.prev_char\n",
    "        return s_merged"
   ]
  },
  {
   "cell_type": "markdown",
   "metadata": {},
   "source": [
    "# Streaming Inference\n",
    "\n",
    "Streaming inference depends on a few factors, such as the frame length and buffer size. Experiment with a few values to see their effects in the below cells."
   ]
  },
  {
   "cell_type": "code",
   "execution_count": null,
   "metadata": {},
   "outputs": [],
   "source": [
    "# duration of signal frame, seconds\n",
    "FRAME_LEN = 1.0\n",
    "# number of audio channels (expect mono signal)\n",
    "CHANNELS = 1\n",
    "\n",
    "CHUNK_SIZE = int(FRAME_LEN*SAMPLE_RATE)\n",
    "asr = FrameASR(model_definition = {\n",
    "                   'sample_rate': SAMPLE_RATE,\n",
    "                   'AudioToMelSpectrogramPreprocessor': cfg.preprocessor,\n",
    "                   'JasperEncoder': cfg.encoder,\n",
    "                   'labels': cfg.decoder.vocabulary\n",
    "               },\n",
    "               frame_len=FRAME_LEN, frame_overlap=2, \n",
    "               offset=4)"
   ]
  },
  {
   "cell_type": "code",
   "execution_count": null,
   "metadata": {},
   "outputs": [],
   "source": [
    "asr.reset()\n",
    "\n",
    "p = pa.PyAudio()\n",
    "print('Available audio input devices:')\n",
    "input_devices = []\n",
    "for i in range(p.get_device_count()):\n",
    "    dev = p.get_device_info_by_index(i)\n",
    "    if dev.get('maxInputChannels'):\n",
    "        input_devices.append(i)\n",
    "        print(i, dev.get('name'))\n",
    "\n",
    "if len(input_devices):\n",
    "    dev_idx = -2\n",
    "    while dev_idx not in input_devices:\n",
    "        print('Please type input device ID:')\n",
    "        dev_idx = int(input())\n",
    "\n",
    "    empty_counter = 0\n",
    "\n",
    "    def callback(in_data, frame_count, time_info, status):\n",
    "        global empty_counter\n",
    "        signal = np.frombuffer(in_data, dtype=np.int16)\n",
    "        text = asr.transcribe(signal)\n",
    "        if len(text):\n",
    "            print(text,end='')\n",
    "            empty_counter = asr.offset\n",
    "        elif empty_counter > 0:\n",
    "            empty_counter -= 1\n",
    "            if empty_counter == 0:\n",
    "                print(' ',end='')\n",
    "        return (in_data, pa.paContinue)\n",
    "\n",
    "    stream = p.open(format=pa.paInt16,\n",
    "                    channels=CHANNELS,\n",
    "                    rate=SAMPLE_RATE,\n",
    "                    input=True,\n",
    "                    input_device_index=dev_idx,\n",
    "                    stream_callback=callback,\n",
    "                    frames_per_buffer=CHUNK_SIZE)\n",
    "\n",
    "    print('Listening...')\n",
    "\n",
    "    stream.start_stream()\n",
    "    \n",
    "    # Interrupt kernel and then speak for a few more words to exit the pyaudio loop !\n",
    "    try:\n",
    "        while stream.is_active():\n",
    "            time.sleep(0.1)\n",
    "    finally:        \n",
    "        stream.stop_stream()\n",
    "        stream.close()\n",
    "        p.terminate()\n",
    "\n",
    "        print()\n",
    "        print(\"PyAudio stopped\")\n",
    "    \n",
    "else:\n",
    "    print('ERROR: No audio input device found.')"
   ]
  },
  {
   "cell_type": "code",
   "execution_count": null,
   "metadata": {},
   "outputs": [],
   "source": []
  },
  {
   "cell_type": "code",
   "execution_count": null,
   "metadata": {},
   "outputs": [],
   "source": []
  }
 ],
 "metadata": {
  "kernelspec": {
   "display_name": "Python 3",
   "language": "python",
   "name": "python3"
  },
  "language_info": {
   "codemirror_mode": {
    "name": "ipython",
    "version": 3
   },
   "file_extension": ".py",
   "mimetype": "text/x-python",
   "name": "python",
   "nbconvert_exporter": "python",
   "pygments_lexer": "ipython3",
   "version": "3.8.8"
  }
 },
 "nbformat": 4,
 "nbformat_minor": 4
}
