{
 "cells": [
  {
   "cell_type": "code",
   "execution_count": 1,
   "metadata": {},
   "outputs": [],
   "source": [
    "import requests\n",
    "from bs4 import BeautifulSoup"
   ]
  },
  {
   "cell_type": "code",
   "execution_count": 6,
   "metadata": {},
   "outputs": [],
   "source": [
    "req = requests.get(\"https://context.reverso.net/translation/spanish-english/tímido\", headers={'User-Agent': 'Mozilla/5.0'})"
   ]
  },
  {
   "cell_type": "code",
   "execution_count": 7,
   "metadata": {},
   "outputs": [],
   "source": [
    "soup = BeautifulSoup(req.text, 'html.parser')"
   ]
  },
  {
   "cell_type": "code",
   "execution_count": 8,
   "metadata": {},
   "outputs": [],
   "source": [
    "sentences = [x.text.strip() for x in soup.find_all('span', {'class':'text'}) if '\\n' in x.text]"
   ]
  },
  {
   "cell_type": "code",
   "execution_count": 9,
   "metadata": {},
   "outputs": [
    {
     "data": {
      "text/plain": [
       "['Soy muy tímido para estas cosas.',\n",
       " \"Normally, I'm really shy about this sort of thing.\",\n",
       " 'Probablemente solo sea un individuo tímido.',\n",
       " \"We're probably just dealing with a shy individual.\",\n",
       " 'Teetle, el tímido taxidermista ama...',\n",
       " 'Teetle, the timid taxidermist, loves to...',\n",
       " 'Varias iniciativas marcaron el tímido renacimiento del teatro de títeres tunecino.',\n",
       " 'Several initiatives marked the timid renaissance of Tunisian puppet theatre.',\n",
       " 'No sea tímido Banco no quiere que esta casa venden ahora.',\n",
       " \"Don't be bashful Bank wants this house sold now.\",\n",
       " 'Siempre he sido introvertido y tímido.',\n",
       " \"I've always been an introverted, shy guy.\",\n",
       " 'Se mostró tímido cuando lo señalé.',\n",
       " 'He got all shy when I pointed it out.',\n",
       " 'Quería conocerla, pero soy tímido.',\n",
       " \"I wanted to meet her, but I'm shy.\",\n",
       " 'Él era tímido, solitario y ligeramente insociable.',\n",
       " 'He was a shy, solitary and slightly unsociable boy.',\n",
       " 'Reginald es demasiado tímido para pedir formación.',\n",
       " 'Reginald is way too shy to beg for an education.',\n",
       " 'Las personalidades agresivas suelen ocultar un espíritu muy sensible y tímido.',\n",
       " 'You know, an aggressive personality is often a mask for a very shy and sensitive soul.',\n",
       " 'Era tímido, un poco solitario.',\n",
       " 'I was shy, a bit of a loner.',\n",
       " 'No pareces ser tímido e inhibido.',\n",
       " \"You don't strike me as the shy and inhibited type.\",\n",
       " 'Escucha, no pareces tímido ni nervioso.',\n",
       " \"So, listen, you don't seem like the shy, nervous type.\",\n",
       " 'No seas tímido conmigo, Stanny.',\n",
       " \"Don't get shy on me now, Stanny.\",\n",
       " 'Muy tímido y completamente inofensivo, según los lugareños.',\n",
       " 'Very shy... and completely harmless, according to the locals.',\n",
       " 'Un tímido relámpago iluminó el horizonte.',\n",
       " 'A shy streak of lightning lit up the horizon.',\n",
       " 'No seas tímido pero tampoco condescendiente.',\n",
       " \"Do not be shy, but don't be condescending.\",\n",
       " 'No seas tímido, cuéntanoslo abajo.',\n",
       " \"Don't be shy, tell us about it below.\",\n",
       " 'Mi carácter es normal, un poco tímido.',\n",
       " 'My character is normal, a bit shy.']"
      ]
     },
     "execution_count": 9,
     "metadata": {},
     "output_type": "execute_result"
    }
   ],
   "source": [
    "sentences"
   ]
  },
  {
   "cell_type": "code",
   "execution_count": null,
   "metadata": {},
   "outputs": [],
   "source": []
  },
  {
   "cell_type": "code",
   "execution_count": null,
   "metadata": {},
   "outputs": [],
   "source": []
  }
 ],
 "metadata": {
  "kernelspec": {
   "display_name": "Python 3",
   "language": "python",
   "name": "python3"
  },
  "language_info": {
   "codemirror_mode": {
    "name": "ipython",
    "version": 3
   },
   "file_extension": ".py",
   "mimetype": "text/x-python",
   "name": "python",
   "nbconvert_exporter": "python",
   "pygments_lexer": "ipython3",
   "version": "3.8.8"
  }
 },
 "nbformat": 4,
 "nbformat_minor": 2
}
